{
 "cells": [
  {
   "cell_type": "markdown",
   "id": "31769b95",
   "metadata": {},
   "source": [
    "\n",
    "# `skops`\n",
    "\n",
    "Disclaimer: `skops` is not a model registry as for instance MLflow. The vision is\n",
    "to provide building blocks that ultimately are useful to move `scikit-learn` models\n",
    "closer to production. `skops` would be a so-called \"flavor\" on which MLflow relies\n",
    "on: https://github.com/mlflow/mlflow/issues/13077\n",
    "\n",
    "## Storing and loading a model using pickling"
   ]
  },
  {
   "cell_type": "code",
   "execution_count": null,
   "id": "fb20115b",
   "metadata": {},
   "outputs": [],
   "source": [
    "from sklearn.datasets import load_iris\n",
    "from sklearn.tree import DecisionTreeClassifier\n",
    "from sklearn.model_selection import train_test_split\n",
    "\n",
    "X, y = load_iris(return_X_y=True, as_frame=True)\n",
    "X_train, X_test, y_train, y_test = train_test_split(X, y, random_state=42)\n",
    "\n",
    "model = DecisionTreeClassifier(random_state=42).fit(X_train, y_train)"
   ]
  },
  {
   "cell_type": "code",
   "execution_count": null,
   "id": "90dcf175",
   "metadata": {},
   "outputs": [],
   "source": [
    "import joblib\n",
    "\n",
    "joblib.dump(model, \"../data/03_model.joblib\")"
   ]
  },
  {
   "cell_type": "code",
   "execution_count": null,
   "id": "10912cd1",
   "metadata": {},
   "outputs": [],
   "source": [
    "model = joblib.load(\"../data/03_model.joblib\")"
   ]
  },
  {
   "cell_type": "code",
   "execution_count": null,
   "id": "3edfbf31",
   "metadata": {},
   "outputs": [],
   "source": [
    "print(f\"Accuracy: {model.score(X_test, y_test):.2f}\")"
   ]
  },
  {
   "cell_type": "markdown",
   "id": "9438f93c",
   "metadata": {},
   "source": [
    "\n",
    "So what's wrong with this approach?\n",
    "\n",
    "In short, nothing if you are a single-user environment because:\n",
    "\n",
    "- you trust the source of the pickle file\n",
    "- you handle yourself the environment where the pickle file is loaded"
   ]
  },
  {
   "cell_type": "code",
   "execution_count": null,
   "id": "2765406f",
   "metadata": {},
   "outputs": [],
   "source": [
    "import pickle\n",
    "import pickletools\n",
    "\n",
    "\n",
    "class D:\n",
    "    def __reduce__(self):\n",
    "        return (print, (\"!!!I SEE YOU!!!\",))\n",
    "\n",
    "\n",
    "pickled = pickle.dumps(D())\n",
    "pickletools.dis(pickled)"
   ]
  },
  {
   "cell_type": "code",
   "execution_count": null,
   "id": "8af11b51",
   "metadata": {},
   "outputs": [],
   "source": [
    "pickle.loads(pickled)"
   ]
  },
  {
   "cell_type": "code",
   "execution_count": null,
   "id": "b9979459",
   "metadata": {},
   "outputs": [],
   "source": [
    "import os\n",
    "\n",
    "\n",
    "class E:\n",
    "    def __reduce__(self):\n",
    "        return (\n",
    "            os.system,\n",
    "            (\"\"\"mkdir -p /tmp/dumps && echo \"!!!I'm in YOUR SYSTEM!!!\" > /tmp/dumps/demo.txt\"\"\",),\n",
    "        )\n",
    "\n",
    "\n",
    "pickled = pickle.dumps(E())\n",
    "pickletools.dis(pickled)"
   ]
  },
  {
   "cell_type": "code",
   "execution_count": null,
   "id": "8c8af127",
   "metadata": {},
   "outputs": [],
   "source": [
    "pickle.loads(pickled)"
   ]
  },
  {
   "cell_type": "code",
   "execution_count": null,
   "id": "56d7d9c4",
   "metadata": {},
   "outputs": [],
   "source": [
    "with open(\"/tmp/dumps/demo.txt\", \"r\") as f:\n",
    "    print(f.read())"
   ]
  },
  {
   "cell_type": "markdown",
   "id": "5ceb48f4",
   "metadata": {},
   "source": [
    "\n",
    "## Securing the pickling process using `skops`\n",
    "\n",
    "The idea would be to traverse the pickled object and ensure that there is no\n",
    "structure or object that we don't explicitly trust.\n",
    "\n",
    "So by default, `skops` trust scikit-learn objects and we can do the same as with\n",
    "`joblib`."
   ]
  },
  {
   "cell_type": "code",
   "execution_count": null,
   "id": "c6b68787",
   "metadata": {},
   "outputs": [],
   "source": [
    "from skops import io as sio\n",
    "\n",
    "sio.dump(model, \"../data/03_model.skops\")"
   ]
  },
  {
   "cell_type": "code",
   "execution_count": null,
   "id": "19e83c44",
   "metadata": {},
   "outputs": [],
   "source": [
    "model_loaded = sio.load(\"../data/03_model.skops\")"
   ]
  },
  {
   "cell_type": "code",
   "execution_count": null,
   "id": "74d958e4",
   "metadata": {},
   "outputs": [],
   "source": [
    "print(f\"Accuracy: {model_loaded.score(X_test, y_test):.2f}\")"
   ]
  },
  {
   "cell_type": "markdown",
   "id": "be07be95",
   "metadata": {},
   "source": [
    "\n",
    "Before to load the model, we can visualize what is trusted or not by `skops`."
   ]
  },
  {
   "cell_type": "code",
   "execution_count": null,
   "id": "5740dd7b",
   "metadata": {},
   "outputs": [],
   "source": [
    "sio.visualize(\"../data/03_model.skops\")"
   ]
  },
  {
   "cell_type": "markdown",
   "id": "3a1421bf",
   "metadata": {},
   "source": [
    "\n",
    "Now, let's have an example where we have a custom object that we don't trust by\n",
    "default."
   ]
  },
  {
   "cell_type": "code",
   "execution_count": null,
   "id": "bd78a0c1",
   "metadata": {},
   "outputs": [],
   "source": [
    "from sklearn.base import BaseEstimator\n",
    "from sklearn.pipeline import make_pipeline\n",
    "\n",
    "\n",
    "class TransformerNoOp(BaseEstimator):\n",
    "    def fit(self, X, y):\n",
    "        self.fitted_ = True\n",
    "        return self\n",
    "    def transform(self, X):\n",
    "        return X\n",
    "\n",
    "\n",
    "model = make_pipeline(TransformerNoOp(), DecisionTreeClassifier(random_state=42))\n",
    "model.fit(X_train, y_train)\n",
    "sio.dump(model, \"../data/03_model.skops\")"
   ]
  },
  {
   "cell_type": "code",
   "execution_count": null,
   "id": "8a582e68",
   "metadata": {},
   "outputs": [],
   "source": [
    "sio.visualize(\"../data/03_model.skops\")"
   ]
  },
  {
   "cell_type": "markdown",
   "id": "20ee0aca",
   "metadata": {},
   "source": [
    "\n",
    "We see that one of the object is treated as unsafe. Let's try to load the model."
   ]
  },
  {
   "cell_type": "code",
   "execution_count": null,
   "id": "76fa07fe",
   "metadata": {},
   "outputs": [],
   "source": [
    "sio.load(\"../data/03_model.skops\")"
   ]
  },
  {
   "cell_type": "markdown",
   "id": "80c946f9",
   "metadata": {},
   "source": [
    "\n",
    "But we are sure of what we handle, then we can load the model with the `trusted`\n",
    "parameter."
   ]
  },
  {
   "cell_type": "code",
   "execution_count": null,
   "id": "69ab76fc",
   "metadata": {},
   "outputs": [],
   "source": [
    "sio.load(\"../data/03_model.skops\", trusted=[\"__main__.TransformerNoOp\"])"
   ]
  },
  {
   "cell_type": "markdown",
   "id": "65c184a5",
   "metadata": {},
   "source": [
    "\n",
    "## Documenting machine learning models\n",
    "\n",
    "`skops` allows to create model cards that should be seen as the documentation of\n",
    "the model. A model card would be a bunch of written information to understand how\n",
    "the model as been trained, for which purpose, and quantitative and qualitative\n",
    "analysis of the model. Perfectly, this information should allow to reproduce the\n",
    "model."
   ]
  },
  {
   "cell_type": "code",
   "execution_count": null,
   "id": "56ab1f0c",
   "metadata": {},
   "outputs": [],
   "source": [
    "from skops.card import Card\n",
    "\n",
    "model_card = Card(model)"
   ]
  },
  {
   "cell_type": "code",
   "execution_count": null,
   "id": "7a95b7ea",
   "metadata": {},
   "outputs": [],
   "source": [
    "print(model_card.render())"
   ]
  },
  {
   "cell_type": "code",
   "execution_count": null,
   "id": "d9cbab9a",
   "metadata": {},
   "outputs": [],
   "source": [
    "limitations = \"This model is not ready to be used in production.\"\n",
    "model_description = \"It is a dummy decision tree just to show a demo.\"\n",
    "model_card_authors = \"me\"\n",
    "\n",
    "model_card = model_card.add(\n",
    "    **{\n",
    "        \"Model Card Authors\": model_card_authors,\n",
    "        \"Model description\": model_description,\n",
    "        \"Model description/Intended uses & limitations\": limitations,\n",
    "    }\n",
    ")"
   ]
  },
  {
   "cell_type": "code",
   "execution_count": null,
   "id": "6eac1435",
   "metadata": {},
   "outputs": [],
   "source": [
    "print(model_card.render())"
   ]
  },
  {
   "cell_type": "markdown",
   "id": "18b18bed",
   "metadata": {},
   "source": [
    "\n",
    "To provide model cards in use on open-hubs, we can have a look at the model card\n",
    "on Hugging Face: https://huggingface.co/apprentissage-sirius/verbatims-gem\n",
    "\n",
    "## Conclusions\n",
    "\n",
    "**Vision**\n",
    "- Develop building blocks to bring scikit-learn closer to production\n",
    "\n",
    "**Wrap-up**\n",
    "- Secure the persistence of scikit-learn models\n",
    "- Document scikit-learn models in production via model cards"
   ]
  }
 ],
 "metadata": {
  "jupytext": {
   "cell_metadata_filter": "-all",
   "main_language": "python",
   "notebook_metadata_filter": "-all"
  }
 },
 "nbformat": 4,
 "nbformat_minor": 5
}
