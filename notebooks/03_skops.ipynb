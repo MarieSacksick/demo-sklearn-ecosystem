{
 "cells": [
  {
   "cell_type": "markdown",
   "id": "b830a6bc",
   "metadata": {},
   "source": [
    "\n",
    "# `skops` - `scikit-learn` models in production\n",
    "\n",
    "Disclaimer: `skops` is not MLFlow. The vision is to provide building blocks that\n",
    "ultimately are useful to move `scikit-learn` models closer to production.\n",
    "\n",
    "## Storing and loading a model using pickling"
   ]
  },
  {
   "cell_type": "code",
   "execution_count": null,
   "id": "991f6634",
   "metadata": {},
   "outputs": [],
   "source": [
    "from sklearn.datasets import load_iris\n",
    "from sklearn.tree import DecisionTreeClassifier\n",
    "from sklearn.model_selection import train_test_split\n",
    "\n",
    "X, y = load_iris(return_X_y=True, as_frame=True)\n",
    "X_train, X_test, y_train, y_test = train_test_split(X, y, random_state=42)\n",
    "\n",
    "model = DecisionTreeClassifier(random_state=42).fit(X_train, y_train)"
   ]
  },
  {
   "cell_type": "code",
   "execution_count": null,
   "id": "9463da93",
   "metadata": {},
   "outputs": [],
   "source": [
    "import joblib\n",
    "\n",
    "joblib.dump(model, \"../data/03_model.joblib\")"
   ]
  },
  {
   "cell_type": "code",
   "execution_count": null,
   "id": "92e35965",
   "metadata": {},
   "outputs": [],
   "source": [
    "model = joblib.load(\"../data/03_model.joblib\")"
   ]
  },
  {
   "cell_type": "code",
   "execution_count": null,
   "id": "34756449",
   "metadata": {},
   "outputs": [],
   "source": [
    "print(f\"Accuracy: {model.score(X_test, y_test):.2f}\")"
   ]
  },
  {
   "cell_type": "markdown",
   "id": "1d6dd374",
   "metadata": {},
   "source": [
    "\n",
    "So what's wrong with this approach?\n",
    "\n",
    "In short, nothing if you are a single-user environment because:\n",
    "\n",
    "- you trust the source of the pickle file\n",
    "- you handle yourself the environment where the pickle file is loaded"
   ]
  },
  {
   "cell_type": "code",
   "execution_count": null,
   "id": "c44ab12e",
   "metadata": {},
   "outputs": [],
   "source": [
    "import pickle\n",
    "import pickletools\n",
    "\n",
    "\n",
    "class D:\n",
    "    def __reduce__(self):\n",
    "        return (print, (\"!!!I SEE YOU!!!\",))\n",
    "\n",
    "\n",
    "pickled = pickle.dumps(D())\n",
    "pickletools.dis(pickled)"
   ]
  },
  {
   "cell_type": "code",
   "execution_count": null,
   "id": "69d62ab6",
   "metadata": {},
   "outputs": [],
   "source": [
    "pickle.loads(pickled)"
   ]
  },
  {
   "cell_type": "code",
   "execution_count": null,
   "id": "d5bd85f8",
   "metadata": {},
   "outputs": [],
   "source": [
    "import os\n",
    "\n",
    "\n",
    "class E:\n",
    "    def __reduce__(self):\n",
    "        return (\n",
    "            os.system,\n",
    "            (\"\"\"mkdir -p /tmp/dumps && echo \"!!!I'm in YOUR SYSTEM!!!\" > /tmp/dumps/demo.txt\"\"\",),\n",
    "        )\n",
    "\n",
    "\n",
    "pickled = pickle.dumps(E())\n",
    "pickletools.dis(pickled)"
   ]
  },
  {
   "cell_type": "code",
   "execution_count": null,
   "id": "a63cc18c",
   "metadata": {},
   "outputs": [],
   "source": [
    "pickle.loads(pickled)"
   ]
  },
  {
   "cell_type": "code",
   "execution_count": null,
   "id": "1883f2ed",
   "metadata": {},
   "outputs": [],
   "source": [
    "with open(\"/tmp/dumps/demo.txt\", \"r\") as f:\n",
    "    print(f.read())"
   ]
  },
  {
   "cell_type": "markdown",
   "id": "4a2f42ef",
   "metadata": {},
   "source": [
    "\n",
    "## Securing the pickling process using `skops`\n",
    "\n",
    "The idea would be to traverse the pickled object and ensure that there is no\n",
    "structure or object that we don't explicitly trust.\n",
    "\n",
    "So by default, `skops` trust scikit-learn objects and we can do the same as with\n",
    "`joblib`."
   ]
  },
  {
   "cell_type": "code",
   "execution_count": null,
   "id": "e957e489",
   "metadata": {},
   "outputs": [],
   "source": [
    "from skops import io as sio\n",
    "\n",
    "sio.dump(model, \"../data/03_model.skops\")"
   ]
  },
  {
   "cell_type": "code",
   "execution_count": null,
   "id": "d561cc20",
   "metadata": {},
   "outputs": [],
   "source": [
    "model_loaded = sio.load(\"../data/03_model.skops\")"
   ]
  },
  {
   "cell_type": "code",
   "execution_count": null,
   "id": "6a21787f",
   "metadata": {},
   "outputs": [],
   "source": [
    "print(f\"Accuracy: {model_loaded.score(X_test, y_test):.2f}\")"
   ]
  },
  {
   "cell_type": "markdown",
   "id": "a05a7dab",
   "metadata": {},
   "source": [
    "\n",
    "Before to load the model, we can visualize what is trusted or not by `skops`."
   ]
  },
  {
   "cell_type": "code",
   "execution_count": null,
   "id": "662b8abc",
   "metadata": {},
   "outputs": [],
   "source": [
    "sio.visualize(\"../data/03_model.skops\")"
   ]
  },
  {
   "cell_type": "markdown",
   "id": "b9b3448b",
   "metadata": {},
   "source": [
    "\n",
    "Now, let's have an example where we have a custom object that we don't trust by\n",
    "default."
   ]
  },
  {
   "cell_type": "code",
   "execution_count": null,
   "id": "24e3f6a2",
   "metadata": {},
   "outputs": [],
   "source": [
    "from sklearn.base import BaseEstimator\n",
    "from sklearn.pipeline import make_pipeline\n",
    "\n",
    "\n",
    "class TransformerNoOp(BaseEstimator):\n",
    "    def fit(self, X, y):\n",
    "        self.fitted_ = True\n",
    "        return self\n",
    "    def transform(self, X):\n",
    "        return X\n",
    "\n",
    "\n",
    "model = make_pipeline(TransformerNoOp(), DecisionTreeClassifier(random_state=42))\n",
    "model.fit(X_train, y_train)\n",
    "sio.dump(model, \"../data/03_model.skops\")"
   ]
  },
  {
   "cell_type": "code",
   "execution_count": null,
   "id": "ab39f872",
   "metadata": {},
   "outputs": [],
   "source": [
    "sio.visualize(\"../data/03_model.skops\")"
   ]
  },
  {
   "cell_type": "markdown",
   "id": "83897e7c",
   "metadata": {},
   "source": [
    "\n",
    "We see that one of the object is treated as unsafe. Let's try to load the model."
   ]
  },
  {
   "cell_type": "code",
   "execution_count": null,
   "id": "57409af2",
   "metadata": {
    "lines_to_next_cell": 0
   },
   "outputs": [],
   "source": [
    "sio.load(\"../data/03_model.skops\")"
   ]
  },
  {
   "cell_type": "markdown",
   "id": "61426bd9",
   "metadata": {},
   "source": [
    "\n",
    "But we are sure of what we handle, then we can load the model with the `trusted`\n",
    "parameter."
   ]
  },
  {
   "cell_type": "code",
   "execution_count": null,
   "id": "62743593",
   "metadata": {},
   "outputs": [],
   "source": [
    "sio.load(\"../data/03_model.skops\", trusted=[\"__main__.TransformerNoOp\"])"
   ]
  },
  {
   "cell_type": "markdown",
   "id": "19c78357",
   "metadata": {},
   "source": [
    "\n",
    "## Documenting machine learning models\n",
    "\n",
    "`skops` allows to create model cards that should be seen as the documentation of\n",
    "the model. A model card would be a bunch of written information to understand how\n",
    "the model as been trained, for which purpose, and quantitative and qualitative\n",
    "analysis of the model. Perfectly, this information should allow to reproduce the\n",
    "model."
   ]
  },
  {
   "cell_type": "code",
   "execution_count": null,
   "id": "858eea25",
   "metadata": {},
   "outputs": [],
   "source": [
    "from skops.card import Card\n",
    "\n",
    "model_card = Card(model)"
   ]
  },
  {
   "cell_type": "code",
   "execution_count": null,
   "id": "1071b9d2",
   "metadata": {},
   "outputs": [],
   "source": [
    "print(model_card.render())"
   ]
  },
  {
   "cell_type": "code",
   "execution_count": null,
   "id": "00863882",
   "metadata": {},
   "outputs": [],
   "source": [
    "limitations = \"This model is not ready to be used in production.\"\n",
    "model_description = \"It is a dummy decision tree just to show a demo.\"\n",
    "model_card_authors = \"me\"\n",
    "\n",
    "model_card = model_card.add(\n",
    "    **{\n",
    "        \"Model Card Authors\": model_card_authors,\n",
    "        \"Model description\": model_description,\n",
    "        \"Model description/Intended uses & limitations\": limitations,\n",
    "    }\n",
    ")"
   ]
  },
  {
   "cell_type": "code",
   "execution_count": null,
   "id": "18fa1865",
   "metadata": {},
   "outputs": [],
   "source": [
    "model_card.render()"
   ]
  },
  {
   "cell_type": "code",
   "execution_count": null,
   "id": "74043a0d",
   "metadata": {},
   "outputs": [],
   "source": [
    "from sklearn.metrics import accuracy_score, ConfusionMatrixDisplay\n",
    "from sklearn.inspection import permutation_importance\n",
    "\n",
    "y_pred = model.predict(X_test)\n",
    "eval_descr = (\n",
    "    \"The model is evaluated on test data using accuracy and F1-score with \"\n",
    "    \"macro average.\"\n",
    ")\n",
    "model_card = model_card.add(**{\"Model description/Evaluation Results\": eval_descr})\n",
    "\n",
    "accuracy = accuracy_score(y_test, y_pred)\n",
    "model_card.add_metrics(**{\"accuracy\": accuracy})\n",
    "\n",
    "disp = ConfusionMatrixDisplay.from_estimator(model, X_test, y_test)\n",
    "\n",
    "disp.figure_.savefig(\"../data/confusion_matrix.png\")\n",
    "model_card.add_plot(\n",
    "    **{\"Model description/Evaluation Results/Confusion Matrix\": \"confusion_matrix.png\"}\n",
    ")\n",
    "\n",
    "importances = permutation_importance(model, X_test, y_test, n_repeats=10)\n",
    "model_card.add_permutation_importances(\n",
    "    importances,\n",
    "    X_test.columns,\n",
    "    plot_file=\"../data/importance.png\",\n",
    "    plot_name=\"Permutation Importance\",\n",
    ")"
   ]
  },
  {
   "cell_type": "code",
   "execution_count": null,
   "id": "c54bc44e",
   "metadata": {},
   "outputs": [],
   "source": [
    "model_card.render()"
   ]
  }
 ],
 "metadata": {
  "jupytext": {
   "cell_metadata_filter": "-all",
   "main_language": "python",
   "notebook_metadata_filter": "-all"
  }
 },
 "nbformat": 4,
 "nbformat_minor": 5
}
