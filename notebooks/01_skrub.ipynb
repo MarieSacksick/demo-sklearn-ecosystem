{
 "cells": [
  {
   "cell_type": "markdown",
   "id": "f32ed4e1",
   "metadata": {},
   "source": [
    "\n",
    "# `skrub` - less wrangling, more machine learning\n",
    "\n",
    "## Help in the exploration of the data"
   ]
  },
  {
   "cell_type": "code",
   "execution_count": null,
   "id": "9c0265ba",
   "metadata": {},
   "outputs": [],
   "source": [
    "from skrub.datasets import fetch_employee_salaries\n",
    "\n",
    "employee_salaries = fetch_employee_salaries()\n",
    "X, y = employee_salaries.X, employee_salaries.y\n",
    "X.head()"
   ]
  },
  {
   "cell_type": "code",
   "execution_count": null,
   "id": "61ab0d61",
   "metadata": {},
   "outputs": [],
   "source": [
    "y.head()"
   ]
  },
  {
   "cell_type": "code",
   "execution_count": null,
   "id": "1a65de38",
   "metadata": {},
   "outputs": [],
   "source": [
    "from skrub import TableReport\n",
    "\n",
    "table = TableReport(employee_salaries.employee_salaries)\n",
    "table"
   ]
  },
  {
   "cell_type": "code",
   "execution_count": null,
   "id": "0544bdac",
   "metadata": {},
   "outputs": [],
   "source": [
    "from skrub import patch_display\n",
    "\n",
    "patch_display()  # you can use skrub.unpatch_display() to disable the display"
   ]
  },
  {
   "cell_type": "code",
   "execution_count": null,
   "id": "73927fc8",
   "metadata": {},
   "outputs": [],
   "source": [
    "X"
   ]
  },
  {
   "cell_type": "markdown",
   "id": "fdb49504",
   "metadata": {},
   "source": [
    "\n",
    "## Help at preprocessing data\n",
    "\n",
    "`skrub` comes with a set of additional encoders."
   ]
  },
  {
   "cell_type": "code",
   "execution_count": null,
   "id": "fd82a885",
   "metadata": {},
   "outputs": [],
   "source": [
    "from skrub import DatetimeEncoder, ToDatetime\n",
    "from sklearn.pipeline import make_pipeline\n",
    "\n",
    "encoder = make_pipeline(ToDatetime(), DatetimeEncoder())\n",
    "encoder.fit_transform(X[\"date_first_hired\"])"
   ]
  },
  {
   "cell_type": "code",
   "execution_count": null,
   "id": "40cfcc3c",
   "metadata": {},
   "outputs": [],
   "source": [
    "from skrub import TextEncoder\n",
    "\n",
    "encoder = TextEncoder()\n",
    "encoder.fit_transform(X[\"employee_position_title\"])"
   ]
  },
  {
   "cell_type": "code",
   "execution_count": null,
   "id": "8bef5494",
   "metadata": {},
   "outputs": [],
   "source": [
    "from skrub import MinHashEncoder\n",
    "\n",
    "encoder = MinHashEncoder()\n",
    "encoder.fit_transform(X[\"employee_position_title\"])"
   ]
  },
  {
   "cell_type": "markdown",
   "id": "ff44a81d",
   "metadata": {},
   "source": [
    "\n",
    "`TableVectorizer` helps at reducing the boilerplate of `ColumnTransformer`."
   ]
  },
  {
   "cell_type": "code",
   "execution_count": null,
   "id": "d032f43c",
   "metadata": {},
   "outputs": [],
   "source": [
    "from skrub import TableVectorizer\n",
    "\n",
    "vectorizer = TableVectorizer()\n",
    "vectorizer"
   ]
  },
  {
   "cell_type": "markdown",
   "id": "306dd1e1",
   "metadata": {},
   "source": [
    "\n",
    "`tabular_learner` to help at getting meaningful baselines quickly."
   ]
  },
  {
   "cell_type": "code",
   "execution_count": null,
   "id": "b0427693",
   "metadata": {},
   "outputs": [],
   "source": [
    "from skrub import tabular_learner\n",
    "from sklearn.linear_model import RidgeCV\n",
    "\n",
    "model = tabular_learner(RidgeCV())\n",
    "model"
   ]
  },
  {
   "cell_type": "code",
   "execution_count": null,
   "id": "63114e32",
   "metadata": {},
   "outputs": [],
   "source": [
    "model = tabular_learner(\"regressor\")\n",
    "model"
   ]
  },
  {
   "cell_type": "code",
   "execution_count": null,
   "id": "bc7ea466",
   "metadata": {},
   "outputs": [],
   "source": [
    "import pandas as pd\n",
    "from sklearn.model_selection import cross_validate\n",
    "\n",
    "cv_results = cross_validate(model, X, y)\n",
    "cv_results = pd.DataFrame(cv_results)"
   ]
  },
  {
   "cell_type": "code",
   "execution_count": null,
   "id": "3c7fcd45",
   "metadata": {},
   "outputs": [],
   "source": [
    "cv_results"
   ]
  },
  {
   "cell_type": "markdown",
   "id": "e6a10feb",
   "metadata": {},
   "source": [
    "\n",
    "Table joiner compatible with the scikit-learn API."
   ]
  },
  {
   "cell_type": "code",
   "execution_count": null,
   "id": "cb0e9a76",
   "metadata": {},
   "outputs": [],
   "source": [
    "from skrub import Joiner\n",
    "\n",
    "airports = pd.DataFrame(\n",
    "    {\n",
    "        \"airport_id\": [1, 2],\n",
    "        \"airport_name\": [\"Charles de Gaulle\", \"Aeroporto Leonardo da Vinci\"],\n",
    "        \"city\": [\"Paris\", \"Roma\"],\n",
    "    }\n",
    ")\n",
    "# notice the \"Rome\" instead of \"Roma\"\n",
    "capitals = pd.DataFrame(\n",
    "    {\"capital\": [\"Berlin\", \"Paris\", \"Rome\"], \"country\": [\"Germany\", \"France\", \"Italy\"]}\n",
    ")\n",
    "joiner = Joiner(\n",
    "    capitals,\n",
    "    main_key=\"city\",\n",
    "    aux_key=\"capital\",\n",
    "    max_dist=0.8,\n",
    "    add_match_info=False,\n",
    ")\n",
    "joiner.fit_transform(airports)"
   ]
  }
 ],
 "metadata": {
  "jupytext": {
   "cell_metadata_filter": "-all",
   "main_language": "python",
   "notebook_metadata_filter": "-all"
  }
 },
 "nbformat": 4,
 "nbformat_minor": 5
}
