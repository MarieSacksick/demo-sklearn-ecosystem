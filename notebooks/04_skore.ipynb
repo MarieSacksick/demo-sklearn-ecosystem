{
 "cells": [
  {
   "cell_type": "markdown",
   "id": "17f5b73d",
   "metadata": {},
   "source": [
    "\n",
    "# `Skore` - an abstraction to ease data science project"
   ]
  },
  {
   "cell_type": "code",
   "execution_count": null,
   "id": "6460ec89",
   "metadata": {},
   "outputs": [],
   "source": [
    "import os\n",
    "\n",
    "os.environ[\"POLARS_ALLOW_FORKING_THREAD\"] = \"1\"\n",
    "os.environ[\"TOKENIZERS_PARALLELISM\"] = \"true\""
   ]
  },
  {
   "cell_type": "markdown",
   "id": "c5ea71bb",
   "metadata": {},
   "source": [
    "\n",
    "Let's open a skore project in which we will be able to store artifacts from our\n",
    "experiments."
   ]
  },
  {
   "cell_type": "code",
   "execution_count": null,
   "id": "2e1b4f7d",
   "metadata": {},
   "outputs": [],
   "source": [
    "import skore\n",
    "\n",
    "my_project = skore.Project(\"../data/my_project\", if_exists=True)"
   ]
  },
  {
   "cell_type": "code",
   "execution_count": null,
   "id": "99a05b6f",
   "metadata": {},
   "outputs": [],
   "source": [
    "from skrub.datasets import fetch_employee_salaries\n",
    "\n",
    "datasets = fetch_employee_salaries()\n",
    "df, y = datasets.X, datasets.y"
   ]
  },
  {
   "cell_type": "code",
   "execution_count": null,
   "id": "3d9a9d39",
   "metadata": {},
   "outputs": [],
   "source": [
    "from skrub import TableReport\n",
    "\n",
    "table_report = TableReport(datasets.employee_salaries)\n",
    "table_report"
   ]
  },
  {
   "cell_type": "markdown",
   "id": "e58ab287",
   "metadata": {},
   "source": [
    "\n",
    "Let's model our problem."
   ]
  },
  {
   "cell_type": "code",
   "execution_count": null,
   "id": "1739e27f",
   "metadata": {},
   "outputs": [],
   "source": [
    "from skrub import TableVectorizer, MinHashEncoder\n",
    "from sklearn.ensemble import RandomForestRegressor\n",
    "from sklearn.pipeline import make_pipeline\n",
    "\n",
    "model = make_pipeline(\n",
    "    TableVectorizer(high_cardinality=MinHashEncoder()),\n",
    "    RandomForestRegressor(n_estimators=20, max_leaf_nodes=40),\n",
    ")\n",
    "model"
   ]
  },
  {
   "cell_type": "markdown",
   "id": "7406d277",
   "metadata": {},
   "source": [
    "\n",
    "`skore` provides a couple of tools to ease the evaluation of model:"
   ]
  },
  {
   "cell_type": "code",
   "execution_count": null,
   "id": "3bc6962f",
   "metadata": {},
   "outputs": [],
   "source": [
    "from skore import CrossValidationReport\n",
    "\n",
    "report = CrossValidationReport(estimator=model, X=df, y=y, cv_splitter=5, n_jobs=4)"
   ]
  },
  {
   "cell_type": "code",
   "execution_count": null,
   "id": "b3e1b3b8",
   "metadata": {},
   "outputs": [],
   "source": [
    "report.help()"
   ]
  },
  {
   "cell_type": "code",
   "execution_count": null,
   "id": "fe6eb63a",
   "metadata": {},
   "outputs": [],
   "source": [
    "import time\n",
    "\n",
    "start = time.time()\n",
    "score = report.metrics.r2()\n",
    "end = time.time()\n",
    "print(f\"Time taken: {end - start:.2f} seconds\")"
   ]
  },
  {
   "cell_type": "code",
   "execution_count": null,
   "id": "158b552d",
   "metadata": {},
   "outputs": [],
   "source": [
    "score"
   ]
  },
  {
   "cell_type": "code",
   "execution_count": null,
   "id": "00a9be73",
   "metadata": {},
   "outputs": [],
   "source": [
    "start = time.time()\n",
    "score = report.metrics.r2()\n",
    "end = time.time()\n",
    "print(f\"Time taken: {end - start:.2f} seconds\")"
   ]
  },
  {
   "cell_type": "code",
   "execution_count": null,
   "id": "7e013bcd",
   "metadata": {},
   "outputs": [],
   "source": [
    "score"
   ]
  },
  {
   "cell_type": "code",
   "execution_count": null,
   "id": "1fa4aaac",
   "metadata": {},
   "outputs": [],
   "source": [
    "import time\n",
    "\n",
    "start = time.time()\n",
    "score = report.metrics.rmse()\n",
    "end = time.time()\n",
    "print(f\"Time taken: {end - start:.2f} seconds\")"
   ]
  },
  {
   "cell_type": "code",
   "execution_count": null,
   "id": "1e191cca",
   "metadata": {},
   "outputs": [],
   "source": [
    "score"
   ]
  },
  {
   "cell_type": "code",
   "execution_count": null,
   "id": "ad17e583",
   "metadata": {},
   "outputs": [],
   "source": [
    "report.cache_predictions(n_jobs=4)"
   ]
  },
  {
   "cell_type": "code",
   "execution_count": null,
   "id": "f42d3c68",
   "metadata": {},
   "outputs": [],
   "source": [
    "my_project.put(\"Random Forest model report\", report)"
   ]
  },
  {
   "cell_type": "code",
   "execution_count": null,
   "id": "7eeb5bff",
   "metadata": {},
   "outputs": [],
   "source": [
    "report = my_project.get(\"Random Forest model report\")\n",
    "report.help()"
   ]
  },
  {
   "cell_type": "code",
   "execution_count": null,
   "id": "4db96ea3",
   "metadata": {},
   "outputs": [],
   "source": [
    "report.metrics.report_metrics(aggregate=[\"mean\", \"std\"], indicator_favorability=True)"
   ]
  },
  {
   "cell_type": "code",
   "execution_count": null,
   "id": "6f415205",
   "metadata": {},
   "outputs": [],
   "source": [
    "display = report.metrics.prediction_error()\n",
    "display.plot(kind=\"actual_vs_predicted\")"
   ]
  },
  {
   "cell_type": "code",
   "execution_count": null,
   "id": "839bea07",
   "metadata": {},
   "outputs": [],
   "source": [
    "report.estimator_reports_"
   ]
  },
  {
   "cell_type": "code",
   "execution_count": null,
   "id": "f82a6d9d",
   "metadata": {},
   "outputs": [],
   "source": [
    "estimator_report = report.estimator_reports_[0]\n",
    "estimator_report.help()"
   ]
  },
  {
   "cell_type": "code",
   "execution_count": null,
   "id": "0c71cd4f",
   "metadata": {},
   "outputs": [],
   "source": [
    "estimator_report.metrics.prediction_error().plot(kind=\"actual_vs_predicted\")"
   ]
  },
  {
   "cell_type": "code",
   "execution_count": null,
   "id": "a6778f9c",
   "metadata": {},
   "outputs": [],
   "source": [
    "list_df = []\n",
    "\n",
    "for idx, estimator_report in enumerate(report.estimator_reports_):\n",
    "    estimator_feature_importance = estimator_report.feature_importance.feature_permutation(\n",
    "        n_jobs=-1\n",
    "    )\n",
    "    estimator_feature_importance = estimator_feature_importance.droplevel(level = 0).T\n",
    "    estimator_feature_importance[\"model\"] = idx\n",
    "    list_df.append(estimator_feature_importance)"
   ]
  },
  {
   "cell_type": "code",
   "execution_count": null,
   "id": "73e02b1b",
   "metadata": {},
   "outputs": [],
   "source": [
    "import pandas as pd\n",
    "df_concat = pd.concat(list_df)\n",
    "df_concat.head()"
   ]
  },
  {
   "cell_type": "code",
   "execution_count": null,
   "id": "49312edb",
   "metadata": {},
   "outputs": [],
   "source": [
    "import plotly.express as px\n",
    "df = px.data.tips()\n",
    "fig = px.box(df_concat, color = \"model\", orientation = \"h\")\n",
    "fig.show()"
   ]
  },
  {
   "cell_type": "markdown",
   "id": "24025838",
   "metadata": {},
   "source": [
    "\n",
    "## Conclusions\n",
    "\n",
    "**Vision**\n",
    "- Develop tooling to create data science artifacts\n",
    "- Help at following good practices for the problem at hand\n",
    "- Help at the collaboration to carry on data science project\n",
    "\n",
    "**Wrap-up**\n",
    "- Provide tools to evaluate predictive models\n",
    "- Make some internal magic to reduce user friction\n",
    "- Allow for persistence of artifacts\n",
    "\n",
    "**Roadmap**\n",
    "- Cover multiple aspects of the data science life cycles: data, model, etc.\n",
    "- Help at creating artifacts dedicated to the problem at hand and the model\n",
    "- Reduce the complexity related to code"
   ]
  }
 ],
 "metadata": {
  "jupytext": {
   "cell_metadata_filter": "-all",
   "main_language": "python",
   "notebook_metadata_filter": "-all"
  }
 },
 "nbformat": 4,
 "nbformat_minor": 5
}
