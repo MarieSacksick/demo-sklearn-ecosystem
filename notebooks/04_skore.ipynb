{
 "cells": [
  {
   "cell_type": "markdown",
   "id": "f32252d0",
   "metadata": {},
   "source": [
    "\n",
    "# `Skore` - an abstraction to ease data science project"
   ]
  },
  {
   "cell_type": "code",
   "execution_count": null,
   "id": "43fba764",
   "metadata": {},
   "outputs": [],
   "source": [
    "import os\n",
    "\n",
    "os.environ[\"POLARS_ALLOW_FORKING_THREAD\"] = \"1\"\n",
    "os.environ[\"TOKENIZERS_PARALLELISM\"] = \"true\""
   ]
  },
  {
   "cell_type": "markdown",
   "id": "25a1f3bd",
   "metadata": {},
   "source": [
    "\n",
    "Let's open a skore project in which we will be able to store artifacts from our\n",
    "experiments."
   ]
  },
  {
   "cell_type": "code",
   "execution_count": null,
   "id": "2f14826d",
   "metadata": {},
   "outputs": [],
   "source": [
    "import skore\n",
    "\n",
    "my_project = skore.Project(\"../data/my_project\", if_exists=True)"
   ]
  },
  {
   "cell_type": "code",
   "execution_count": null,
   "id": "7a86621b",
   "metadata": {},
   "outputs": [],
   "source": [
    "from skrub.datasets import fetch_employee_salaries\n",
    "\n",
    "datasets = fetch_employee_salaries()\n",
    "df, y = datasets.X, datasets.y"
   ]
  },
  {
   "cell_type": "code",
   "execution_count": null,
   "id": "d7f45241",
   "metadata": {},
   "outputs": [],
   "source": [
    "from skrub import TableReport\n",
    "\n",
    "table_report = TableReport(datasets.employee_salaries)\n",
    "table_report"
   ]
  },
  {
   "cell_type": "markdown",
   "id": "06a2f1ed",
   "metadata": {},
   "source": [
    "\n",
    "Let's model our problem."
   ]
  },
  {
   "cell_type": "code",
   "execution_count": null,
   "id": "00c4e533",
   "metadata": {},
   "outputs": [],
   "source": [
    "from skrub import TableVectorizer, TextEncoder\n",
    "from sklearn.ensemble import RandomForestRegressor\n",
    "from sklearn.pipeline import make_pipeline\n",
    "\n",
    "model = make_pipeline(\n",
    "    TableVectorizer(high_cardinality=TextEncoder()),\n",
    "    RandomForestRegressor(n_estimators=20, max_leaf_nodes=40),\n",
    ")\n",
    "model"
   ]
  },
  {
   "cell_type": "markdown",
   "id": "51d22e58",
   "metadata": {},
   "source": [
    "\n",
    "`skore` provides a couple of tools to ease the evaluation of model:"
   ]
  },
  {
   "cell_type": "code",
   "execution_count": null,
   "id": "a1a15bd5",
   "metadata": {},
   "outputs": [],
   "source": [
    "from skore import CrossValidationReport\n",
    "\n",
    "report = CrossValidationReport(estimator=model, X=df, y=y, cv_splitter=5, n_jobs=4)"
   ]
  },
  {
   "cell_type": "code",
   "execution_count": null,
   "id": "6a930084",
   "metadata": {},
   "outputs": [],
   "source": [
    "report.help()"
   ]
  },
  {
   "cell_type": "code",
   "execution_count": null,
   "id": "5c33e439",
   "metadata": {},
   "outputs": [],
   "source": [
    "import time\n",
    "\n",
    "start = time.time()\n",
    "score = report.metrics.r2()\n",
    "end = time.time()\n",
    "print(f\"Time taken: {end - start:.2f} seconds\")"
   ]
  },
  {
   "cell_type": "code",
   "execution_count": null,
   "id": "9b55f998",
   "metadata": {},
   "outputs": [],
   "source": [
    "score"
   ]
  },
  {
   "cell_type": "code",
   "execution_count": null,
   "id": "85d46346",
   "metadata": {},
   "outputs": [],
   "source": [
    "start = time.time()\n",
    "score = report.metrics.r2()\n",
    "end = time.time()\n",
    "print(f\"Time taken: {end - start:.2f} seconds\")"
   ]
  },
  {
   "cell_type": "code",
   "execution_count": null,
   "id": "750b6164",
   "metadata": {},
   "outputs": [],
   "source": [
    "score"
   ]
  },
  {
   "cell_type": "code",
   "execution_count": null,
   "id": "303edf7b",
   "metadata": {},
   "outputs": [],
   "source": [
    "import time\n",
    "\n",
    "start = time.time()\n",
    "score = report.metrics.rmse()\n",
    "end = time.time()\n",
    "print(f\"Time taken: {end - start:.2f} seconds\")"
   ]
  },
  {
   "cell_type": "code",
   "execution_count": null,
   "id": "3a0aed14",
   "metadata": {},
   "outputs": [],
   "source": [
    "score"
   ]
  },
  {
   "cell_type": "code",
   "execution_count": null,
   "id": "c86fd57e",
   "metadata": {},
   "outputs": [],
   "source": [
    "report.cache_predictions(n_jobs=4)"
   ]
  },
  {
   "cell_type": "code",
   "execution_count": null,
   "id": "505a1a63",
   "metadata": {},
   "outputs": [],
   "source": [
    "my_project.put(\"Random Forest model report\", report)"
   ]
  },
  {
   "cell_type": "code",
   "execution_count": null,
   "id": "1c25debd",
   "metadata": {},
   "outputs": [],
   "source": [
    "report = my_project.get(\"Random Forest model report\")\n",
    "report.help()"
   ]
  },
  {
   "cell_type": "code",
   "execution_count": null,
   "id": "940f455c",
   "metadata": {},
   "outputs": [],
   "source": [
    "report.metrics.report_metrics(aggregate=[\"mean\", \"std\"], indicator_favorability=True)"
   ]
  },
  {
   "cell_type": "code",
   "execution_count": null,
   "id": "85e40978",
   "metadata": {},
   "outputs": [],
   "source": [
    "display = report.metrics.prediction_error()\n",
    "display.plot(kind=\"actual_vs_predicted\")"
   ]
  },
  {
   "cell_type": "code",
   "execution_count": null,
   "id": "d30e0d3f",
   "metadata": {},
   "outputs": [],
   "source": [
    "report.estimator_reports_"
   ]
  },
  {
   "cell_type": "code",
   "execution_count": null,
   "id": "7d851772",
   "metadata": {},
   "outputs": [],
   "source": [
    "estimator_report = report.estimator_reports_[0]\n",
    "estimator_report.help()"
   ]
  },
  {
   "cell_type": "code",
   "execution_count": null,
   "id": "7e351872",
   "metadata": {},
   "outputs": [],
   "source": [
    "estimator_report.metrics.prediction_error().plot(kind=\"actual_vs_predicted\")"
   ]
  }
 ],
 "metadata": {
  "jupytext": {
   "cell_metadata_filter": "-all",
   "main_language": "python",
   "notebook_metadata_filter": "-all"
  }
 },
 "nbformat": 4,
 "nbformat_minor": 5
}
